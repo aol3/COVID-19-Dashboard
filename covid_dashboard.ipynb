{
 "cells": [
  {
   "cell_type": "code",
   "execution_count": 1,
   "id": "c7433e6b",
   "metadata": {},
   "outputs": [],
   "source": [
    "import pandas as pd\n",
    "from dash import Dash, dcc, html\n",
    "from dash.dependencies import Input, Output\n",
    "import plotly.express as px\n",
    "import plotly.graph_objects as go\n",
    "from jupyter_dash import JupyterDash"
   ]
  },
  {
   "cell_type": "code",
   "execution_count": 2,
   "id": "6e23861d",
   "metadata": {},
   "outputs": [
    {
     "name": "stderr",
     "output_type": "stream",
     "text": [
      "/home/aol8/miniconda3/lib/python3.11/site-packages/dash/dash.py:556: UserWarning:\n",
      "\n",
      "JupyterDash is deprecated, use Dash instead.\n",
      "See https://dash.plotly.com/dash-in-jupyter for more details.\n",
      "\n"
     ]
    }
   ],
   "source": [
    "# Initialize the Dash app\n",
    "app = JupyterDash(__name__)\n",
    "# Load the dataset\n",
    "df = pd.read_csv('worldometer_data.csv')"
   ]
  },
  {
   "cell_type": "code",
   "execution_count": 3,
   "id": "681758af",
   "metadata": {},
   "outputs": [],
   "source": [
    "# World map visualization of total cases\n",
    "fig_map = px.scatter_geo(\n",
    "    df,\n",
    "    locations=\"Country/Region\",\n",
    "    locationmode=\"country names\",\n",
    "    color=\"TotalCases\",\n",
    "    size=\"TotalCases\",\n",
    "    hover_name=\"Country/Region\",\n",
    "    size_max=50,\n",
    "    template=\"plotly_dark\",\n",
    "    projection=\"natural earth\",\n",
    "    title=\"Total COVID-19 Cases Worldwide\",\n",
    "    color_continuous_scale=px.colors.sequential.Plasma\n",
    ")"
   ]
  },
  {
   "cell_type": "code",
   "execution_count": 4,
   "id": "4e647c69",
   "metadata": {},
   "outputs": [],
   "source": [
    "# Create summary cards\n",
    "def summary_card(title, value, color):\n",
    "    return html.Div([\n",
    "        html.H4(title, style={'color': '#FFFFFF'}),\n",
    "        html.P(value, style={'color': color, 'fontSize': '24px'}),\n",
    "    ], style={'padding': '20px', 'backgroundColor': '#2B2B2B', 'borderRadius': '10px', 'margin': '10px'})\n",
    "\n",
    "# Sidebar layout\n",
    "sidebar = html.Div([\n",
    "    html.H2(\"COVID-19 Dashboard\", className=\"display-4\", style={'color': '#FFFFFF'}),\n",
    "    html.Hr(),\n",
    "    html.P(\"Navigation\", className=\"lead\", style={'color': '#FFFFFF'}),\n",
    "    dcc.Link('Overview', href='/overview', style={'color': '#FFFFFF', 'display': 'block', 'padding': '10px'}),\n",
    "    dcc.Link('Statistics', href='/statistics', style={'color': '#FFFFFF', 'display': 'block', 'padding': '10px'}),\n",
    "    dcc.Link('Country Comparisons', href='/comparisons', style={'color': '#FFFFFF', 'display': 'block', 'padding': '10px'}),\n",
    "    dcc.Link('About', href='/about', style={'color': '#FFFFFF', 'display': 'block', 'padding': '10px'}),\n",
    "], style={'backgroundColor': '#2B2B2B', 'padding': '20px', 'width': '20%', 'height': '100vh', 'position': 'fixed'})"
   ]
  },
  {
   "cell_type": "code",
   "execution_count": 5,
   "id": "923d4cc9",
   "metadata": {},
   "outputs": [],
   "source": [
    "# Main content area layout\n",
    "content = html.Div([\n",
    "    html.H1(\"COVID-19 Global Overview\", style={'textAlign': 'center', 'color': '#FFFFFF', 'padding-top': '20px'}),\n",
    "    \n",
    "    # Summary Cards\n",
    "    html.Div([\n",
    "        summary_card(\"Total Cases\", f\"{df['TotalCases'].sum():,}\", '#FF5733'),\n",
    "        summary_card(\"Total Deaths\", f\"{df['TotalDeaths'].sum():,}\", '#C70039'),\n",
    "        summary_card(\"Total Recovered\", f\"{df['TotalRecovered'].sum():,}\", '#28B463'),\n",
    "        summary_card(\"Total Active Cases\", f\"{df['ActiveCases'].sum():,}\", '#FFC300'),\n",
    "    ], style={'display': 'flex', 'justifyContent': 'space-around'}),\n",
    "    \n",
    "    html.Hr(),\n",
    "    \n",
    "    # World Map\n",
    "    dcc.Graph(figure=fig_map),\n",
    "    \n",
    "    html.Hr(),\n",
    "    \n",
    "    # Additional sections can be added here (e.g., Statistics, Country Comparisons)\n",
    "], style={'marginLeft': '22%', 'padding': '20px', 'backgroundColor': '#121212', 'color': '#FFFFFF'})\n",
    "\n",
    "# Define the app layout\n",
    "app.layout = html.Div([sidebar, content])"
   ]
  },
  {
   "cell_type": "code",
   "execution_count": 6,
   "id": "03a52b77",
   "metadata": {},
   "outputs": [
    {
     "data": {
      "text/html": [
       "\n",
       "        <iframe\n",
       "            width=\"100%\"\n",
       "            height=\"650\"\n",
       "            src=\"http://127.0.0.1:8058/\"\n",
       "            frameborder=\"0\"\n",
       "            allowfullscreen\n",
       "            \n",
       "        ></iframe>\n",
       "        "
      ],
      "text/plain": [
       "<IPython.lib.display.IFrame at 0x7f1dbb512ad0>"
      ]
     },
     "metadata": {},
     "output_type": "display_data"
    },
    {
     "name": "stdout",
     "output_type": "stream",
     "text": [
      "Dash app running on http://127.0.0.1:8058/\n"
     ]
    }
   ],
   "source": [
    "# Run the app\n",
    "if __name__ == '__main__':\n",
    "    app.run_server(debug=True, port=8058)"
   ]
  },
  {
   "cell_type": "code",
   "execution_count": null,
   "id": "a94f058d",
   "metadata": {},
   "outputs": [],
   "source": []
  }
 ],
 "metadata": {
  "kernelspec": {
   "display_name": "Python 3 (ipykernel)",
   "language": "python",
   "name": "python3"
  },
  "language_info": {
   "codemirror_mode": {
    "name": "ipython",
    "version": 3
   },
   "file_extension": ".py",
   "mimetype": "text/x-python",
   "name": "python",
   "nbconvert_exporter": "python",
   "pygments_lexer": "ipython3",
   "version": "3.11.6"
  }
 },
 "nbformat": 4,
 "nbformat_minor": 5
}

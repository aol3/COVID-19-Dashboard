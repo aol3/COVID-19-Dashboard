{
 "cells": [
  {
   "cell_type": "code",
   "execution_count": 1,
   "id": "c7433e6b",
   "metadata": {},
   "outputs": [],
   "source": [
    "import pandas as pd\n",
    "from dash import Dash, dcc, html\n",
    "from dash.dependencies import Input, Output\n",
    "import plotly.express as px\n",
    "import plotly.graph_objects as go\n",
    "from jupyter_dash import JupyterDash"
   ]
  },
  {
   "cell_type": "code",
   "execution_count": 2,
   "id": "6e23861d",
   "metadata": {},
   "outputs": [
    {
     "name": "stderr",
     "output_type": "stream",
     "text": [
      "/home/aol8/miniconda3/lib/python3.11/site-packages/dash/dash.py:556: UserWarning:\n",
      "\n",
      "JupyterDash is deprecated, use Dash instead.\n",
      "See https://dash.plotly.com/dash-in-jupyter for more details.\n",
      "\n"
     ]
    }
   ],
   "source": [
    "# Initialize the Dash app with callback exception suppression\n",
    "app = JupyterDash(__name__, suppress_callback_exceptions=True)\n",
    "\n",
    "# Load the dataset\n",
    "df = pd.read_csv('worldometer_data.csv')"
   ]
  },
  {
   "cell_type": "code",
   "execution_count": 3,
   "id": "1ffeaeb7",
   "metadata": {},
   "outputs": [],
   "source": [
    "# World map visualization of total cases\n",
    "fig_map = px.scatter_geo(\n",
    "    df,\n",
    "    locations=\"Country/Region\",\n",
    "    locationmode=\"country names\",\n",
    "    color=\"TotalCases\",\n",
    "    size=\"TotalCases\",\n",
    "    hover_name=\"Country/Region\",\n",
    "    size_max=50,\n",
    "    template=\"plotly_dark\",\n",
    "    projection=\"natural earth\",\n",
    "    title=\"Total COVID-19 Cases Worldwide\",\n",
    "    color_continuous_scale=px.colors.sequential.Plasma\n",
    ")"
   ]
  },
  {
   "cell_type": "code",
   "execution_count": 4,
   "id": "93b2e2f9",
   "metadata": {},
   "outputs": [],
   "source": [
    "# Create summary cards\n",
    "def summary_card(title, value, color):\n",
    "    return html.Div([\n",
    "        html.H4(title, style={'color': '#FFFFFF', 'margin': '0'}),\n",
    "        html.P(value, style={'color': color, 'fontSize': '24px', 'margin': '0'}),\n",
    "    ], style={\n",
    "        'padding': '20px',\n",
    "        'backgroundColor': '#2B2B2B',\n",
    "        'borderRadius': '10px',\n",
    "        'margin': '10px',\n",
    "        'textAlign': 'center',\n",
    "        'flex': '1',\n",
    "        'maxWidth': '200px'\n",
    "    })\n",
    "\n",
    "# Sidebar layout\n",
    "sidebar = html.Div([\n",
    "    html.H2(\"COVID-19 Dashboard\", style={'color': '#FFFFFF', 'textAlign': 'center'}),\n",
    "    html.Hr(),\n",
    "    html.P(\"Navigation\", style={'color': '#FFFFFF'}),\n",
    "    dcc.Link('Overview', href='/overview', style={'color': '#FFFFFF', 'display': 'block', 'padding': '10px'}),\n",
    "    dcc.Link('Statistics', href='/statistics', style={'color': '#FFFFFF', 'display': 'block', 'padding': '10px'}),\n",
    "    dcc.Link('Country Comparisons', href='/comparisons', style={'color': '#FFFFFF', 'display': 'block', 'padding': '10px'}),\n",
    "    dcc.Link('About', href='/about', style={'color': '#FFFFFF', 'display': 'block', 'padding': '10px'}),\n",
    "], style={\n",
    "    'backgroundColor': '#2B2B2B',\n",
    "    'padding': '20px',\n",
    "    'width': '300px',\n",
    "    'height': '100vh',\n",
    "    'position': 'fixed',\n",
    "    'display': 'flex',\n",
    "    'flexDirection': 'column'\n",
    "})"
   ]
  },
  {
   "cell_type": "code",
   "execution_count": 5,
   "id": "0a042d4c",
   "metadata": {},
   "outputs": [],
   "source": [
    "# Define page content layouts\n",
    "def render_overview():\n",
    "    return html.Div([\n",
    "        html.H1(\"COVID-19 Global Overview\", style={'textAlign': 'center', 'color': '#FFFFFF'}),\n",
    "        html.Div([\n",
    "            summary_card(\"Total Cases\", f\"{df['TotalCases'].sum():,}\", '#FF5733'),\n",
    "            summary_card(\"Total Deaths\", f\"{df['TotalDeaths'].sum():,}\", '#C70039'),\n",
    "            summary_card(\"Total Recovered\", f\"{df['TotalRecovered'].sum():,}\", '#28B463'),\n",
    "            summary_card(\"Total Active Cases\", f\"{df['ActiveCases'].sum():,}\", '#FFC300'),\n",
    "        ], style={\n",
    "            'display': 'flex',\n",
    "            'justifyContent': 'space-between',\n",
    "            'marginTop': '20px',\n",
    "            'flexWrap': 'wrap'\n",
    "        }),\n",
    "        html.Hr(),\n",
    "        dcc.Graph(figure=fig_map),\n",
    "    ], style={\n",
    "        'padding': '20px',\n",
    "        'marginLeft': '300px',\n",
    "        'backgroundColor': '#121212',\n",
    "        'color': '#FFFFFF',\n",
    "        'minHeight': '100vh'\n",
    "    })\n"
   ]
  },
  {
   "cell_type": "code",
   "execution_count": 6,
   "id": "c67fd38e",
   "metadata": {},
   "outputs": [],
   "source": [
    "def render_statistics():\n",
    "    # Bar Chart: Top 10 countries with the highest total cases\n",
    "    top_countries = df.nlargest(10, 'TotalCases')\n",
    "    bar_chart = px.bar(\n",
    "        top_countries,\n",
    "        x='Country/Region',\n",
    "        y='TotalCases',\n",
    "        color='TotalCases',\n",
    "        title='Top 10 Countries with the Highest Total Cases',\n",
    "        template='plotly_dark',\n",
    "        labels={'TotalCases': 'Total Cases'},\n",
    "        color_continuous_scale=px.colors.sequential.Plasma\n",
    "    )\n",
    "\n",
    "    # Pie Chart: Global distribution of cases\n",
    "    pie_chart = px.pie(\n",
    "        df,\n",
    "        names='Country/Region',\n",
    "        values='TotalCases',\n",
    "        title='Global Distribution of COVID-19 Cases',\n",
    "        template='plotly_dark'\n",
    "    )\n",
    "\n",
    "    return html.Div([\n",
    "        html.H1(\"Global and Regional Statistics\", style={'textAlign': 'center', 'color': '#FFFFFF'}),\n",
    "        dcc.Graph(figure=bar_chart),\n",
    "        html.Hr(),\n",
    "        dcc.Graph(figure=pie_chart)\n",
    "    ], style={\n",
    "        'padding': '20px',\n",
    "        'marginLeft': '300px',\n",
    "        'backgroundColor': '#121212',\n",
    "        'color': '#FFFFFF'\n",
    "    })\n"
   ]
  },
  {
   "cell_type": "code",
   "execution_count": 7,
   "id": "cc343a18",
   "metadata": {},
   "outputs": [],
   "source": [
    "def render_comparisons():\n",
    "    # Dropdown for country selection with readable colors\n",
    "    dropdown = dcc.Dropdown(\n",
    "        id='country-dropdown',\n",
    "        options=[{'label': country, 'value': country} for country in df['Country/Region'].unique()],\n",
    "        value=['India'],  # Default selected country\n",
    "        multi=True,\n",
    "        placeholder=\"Select countries...\",\n",
    "        style={\n",
    "            'backgroundColor': '#FFFFFF',  # White background for dropdown\n",
    "            'color': '#000000',           # Black text for dropdown options\n",
    "            'border': '1px solid #555',   # Optional border for better visibility\n",
    "            'padding': '5px',             # Adjust padding for better spacing\n",
    "        }\n",
    "    )\n",
    "\n",
    "    return html.Div([\n",
    "        html.H1(\"Country Comparisons\", style={'textAlign': 'center', 'color': '#FFFFFF'}),\n",
    "        html.Div([\n",
    "            html.Label(\"Select Countries for Comparison:\", style={'color': '#FFFFFF'}),\n",
    "            dropdown\n",
    "        ], style={'padding': '10px'}),\n",
    "        html.Div(id='comparison-output')  # Placeholder for comparison graphs\n",
    "    ], style={\n",
    "        'padding': '20px',\n",
    "        'marginLeft': '300px',\n",
    "        'backgroundColor': '#121212',\n",
    "        'color': '#FFFFFF'\n",
    "    })"
   ]
  },
  {
   "cell_type": "code",
   "execution_count": 8,
   "id": "55280587",
   "metadata": {},
   "outputs": [],
   "source": [
    "def render_about():\n",
    "    return html.Div([\n",
    "        html.H1(\"About This Dashboard\", style={'textAlign': 'center', 'color': '#FFFFFF'}),\n",
    "        html.P(\"This dashboard provides insights on COVID-19 data around the world. The dataset was gotten from Kaggle.\", style={'color': '#FFFFFF'}),\n",
    "    ], style={'padding': '20px', 'marginLeft': '300px', 'backgroundColor': '#121212', 'color': '#FFFFFF'})\n",
    "\n",
    "# Define the app layout\n",
    "app.layout = html.Div([\n",
    "    dcc.Location(id='url', refresh=False),\n",
    "    html.Div([\n",
    "        sidebar,\n",
    "        html.Div(id='page-content', style={\n",
    "            'flex': '1',\n",
    "            'padding': '20px',\n",
    "            'backgroundColor': '#121212',\n",
    "            'color': '#FFFFFF'\n",
    "        })\n",
    "    ], style={\n",
    "        'display': 'flex',\n",
    "        'width': '100vw',\n",
    "        'height': '100vh'\n",
    "    })\n",
    "])"
   ]
  },
  {
   "cell_type": "code",
   "execution_count": 9,
   "id": "4e0d4dd4",
   "metadata": {},
   "outputs": [],
   "source": [
    "# Callback to update content based on URL\n",
    "@app.callback(\n",
    "    Output('page-content', 'children'),\n",
    "    Input('url', 'pathname')\n",
    ")\n",
    "def display_page(pathname):\n",
    "    if pathname == '/overview' or pathname == '/':\n",
    "        return render_overview()\n",
    "    elif pathname == '/statistics':\n",
    "        return render_statistics()\n",
    "    elif pathname == '/comparisons':\n",
    "        return render_comparisons()\n",
    "    elif pathname == '/about':\n",
    "        return render_about()\n",
    "    else:\n",
    "        return html.H1(\"404: Page Not Found\", style={'textAlign': 'center', 'color': '#FFFFFF'})\n"
   ]
  },
  {
   "cell_type": "code",
   "execution_count": 10,
   "id": "d5c314ab",
   "metadata": {},
   "outputs": [],
   "source": [
    "# Callback for dynamic country comparison\n",
    "@app.callback(\n",
    "    Output('comparison-output', 'children'),\n",
    "    Input('country-dropdown', 'value')\n",
    ")\n",
    "def update_comparison(selected_countries):\n",
    "    if not selected_countries:\n",
    "        return html.P(\"Select at least one country.\", style={'color': '#FFFFFF'})\n",
    "\n",
    "    filtered_df = df[df['Country/Region'].isin(selected_countries)]\n",
    "\n",
    "    # Bar Chart for comparison\n",
    "    comparison_chart = px.bar(\n",
    "        filtered_df,\n",
    "        x='Country/Region',\n",
    "        y=['TotalCases', 'TotalDeaths', 'TotalRecovered'],\n",
    "        title='Country Comparison of Key Metrics',\n",
    "        template='plotly_dark',\n",
    "        labels={'value': 'Count', 'variable': 'Metric'},\n",
    "        barmode='group'\n",
    "    )\n",
    "\n",
    "    return dcc.Graph(figure=comparison_chart)\n"
   ]
  },
  {
   "cell_type": "code",
   "execution_count": 11,
   "id": "a47503c1",
   "metadata": {},
   "outputs": [
    {
     "data": {
      "text/html": [
       "\n",
       "        <iframe\n",
       "            width=\"100%\"\n",
       "            height=\"650\"\n",
       "            src=\"http://127.0.0.1:8058/\"\n",
       "            frameborder=\"0\"\n",
       "            allowfullscreen\n",
       "            \n",
       "        ></iframe>\n",
       "        "
      ],
      "text/plain": [
       "<IPython.lib.display.IFrame at 0x7ff8f76eadd0>"
      ]
     },
     "metadata": {},
     "output_type": "display_data"
    },
    {
     "name": "stdout",
     "output_type": "stream",
     "text": [
      "Dash app running on http://127.0.0.1:8058/\n"
     ]
    }
   ],
   "source": [
    "# Run the app\n",
    "if __name__ == '__main__':\n",
    "    app.run_server(debug=True, port=8058)"
   ]
  },
  {
   "cell_type": "code",
   "execution_count": null,
   "id": "1832b6d7",
   "metadata": {},
   "outputs": [],
   "source": []
  }
 ],
 "metadata": {
  "kernelspec": {
   "display_name": "Python 3 (ipykernel)",
   "language": "python",
   "name": "python3"
  },
  "language_info": {
   "codemirror_mode": {
    "name": "ipython",
    "version": 3
   },
   "file_extension": ".py",
   "mimetype": "text/x-python",
   "name": "python",
   "nbconvert_exporter": "python",
   "pygments_lexer": "ipython3",
   "version": "3.11.6"
  }
 },
 "nbformat": 4,
 "nbformat_minor": 5
}
